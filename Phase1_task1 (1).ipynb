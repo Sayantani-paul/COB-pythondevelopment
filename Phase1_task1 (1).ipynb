{
 "cells": [
  {
   "cell_type": "code",
   "execution_count": 4,
   "id": "c6655479",
   "metadata": {},
   "outputs": [
    {
     "name": "stdout",
     "output_type": "stream",
     "text": [
      "asteroid :  2\n",
      "also :  2\n",
      "called :  3\n",
      "minor :  2\n",
      "planet :  1\n",
      "or :  2\n",
      "planetoid :  1\n",
      "any :  1\n",
      "of :  4\n",
      "a :  2\n",
      "host :  1\n",
      "small :  2\n",
      "bodies :  1\n",
      "about :  1\n",
      "1,000 :  1\n",
      "km :  1\n",
      "600 :  1\n",
      "miles :  1\n",
      "less :  1\n",
      "in :  2\n",
      "diameter :  1\n",
      "that :  2\n",
      "orbit :  1\n",
      "the :  4\n",
      "sun :  1\n",
      "primarily :  1\n",
      "between :  1\n",
      "orbits :  1\n",
      "mars :  1\n",
      "and :  2\n",
      "jupiter :  1\n",
      "nearly :  1\n",
      "flat :  1\n",
      "ring :  1\n",
      "belt :  1\n",
      "it :  1\n",
      "is :  1\n",
      "because :  1\n",
      "their :  1\n",
      "size :  1\n",
      "large :  1\n",
      "numbers :  1\n",
      "relative :  1\n",
      "to :  1\n",
      "major :  1\n",
      "planets :  2\n",
      "asteroids :  1\n",
      "are :  1\n"
     ]
    }
   ],
   "source": [
    "import string\n",
    "\n",
    "t = open(\"Sample.txt\", \"r\") \n",
    "g = {}\n",
    "  \n",
    "for l in t: \n",
    "      \n",
    "    words = l.split()   \n",
    "    for w in words: \n",
    "        w = w.strip(\".,!?()[]{}'\\\"\").lower()\n",
    "        if w in g: \n",
    "            g[w] = g[w] + 1\n",
    "        else: \n",
    "            g[w] = 1               \n",
    "        \n",
    "for k in list(g.keys()): \n",
    "    print(k, \": \", g[k]) "
   ]
  }
 ],
 "metadata": {
  "kernelspec": {
   "display_name": "Python 3",
   "language": "python",
   "name": "python3"
  },
  "language_info": {
   "codemirror_mode": {
    "name": "ipython",
    "version": 3
   },
   "file_extension": ".py",
   "mimetype": "text/x-python",
   "name": "python",
   "nbconvert_exporter": "python",
   "pygments_lexer": "ipython3",
   "version": "3.8.8"
  }
 },
 "nbformat": 4,
 "nbformat_minor": 5
}
